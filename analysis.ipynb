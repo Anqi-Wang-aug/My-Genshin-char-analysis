{
 "cells": [
  {
   "cell_type": "code",
   "execution_count": 3,
   "metadata": {},
   "outputs": [
    {
     "data": {
      "text/html": [
       "<div>\n",
       "<style scoped>\n",
       "    .dataframe tbody tr th:only-of-type {\n",
       "        vertical-align: middle;\n",
       "    }\n",
       "\n",
       "    .dataframe tbody tr th {\n",
       "        vertical-align: top;\n",
       "    }\n",
       "\n",
       "    .dataframe thead th {\n",
       "        text-align: right;\n",
       "    }\n",
       "</style>\n",
       "<table border=\"1\" class=\"dataframe\">\n",
       "  <thead>\n",
       "    <tr style=\"text-align: right;\">\n",
       "      <th></th>\n",
       "      <th>人物</th>\n",
       "      <th>生命值上限</th>\n",
       "      <th>生命值上限加成</th>\n",
       "      <th>攻击力</th>\n",
       "      <th>攻击力加成</th>\n",
       "      <th>防御力</th>\n",
       "      <th>防御力加成</th>\n",
       "      <th>元素精通</th>\n",
       "      <th>暴击率（%）</th>\n",
       "      <th>暴击伤害（%）</th>\n",
       "      <th>治疗加成（%）</th>\n",
       "      <th>元素充能效率（%）</th>\n",
       "      <th>火元素伤害加成（%）</th>\n",
       "      <th>水元素伤害加成（%）</th>\n",
       "      <th>草元素伤害加成（%）</th>\n",
       "      <th>雷元素伤害加成（%）</th>\n",
       "      <th>风元素伤害加成(%)</th>\n",
       "      <th>冰元素伤害加成（%）</th>\n",
       "      <th>岩元素伤害加成 （%）</th>\n",
       "      <th>物理伤害加成 （%）</th>\n",
       "    </tr>\n",
       "  </thead>\n",
       "  <tbody>\n",
       "    <tr>\n",
       "      <th>0</th>\n",
       "      <td>琴</td>\n",
       "      <td>13662</td>\n",
       "      <td>8126</td>\n",
       "      <td>671</td>\n",
       "      <td>1457</td>\n",
       "      <td>715</td>\n",
       "      <td>306</td>\n",
       "      <td>146</td>\n",
       "      <td>18.1</td>\n",
       "      <td>55.0</td>\n",
       "      <td>22.2</td>\n",
       "      <td>120.0</td>\n",
       "      <td>0</td>\n",
       "      <td>0</td>\n",
       "      <td>0</td>\n",
       "      <td>0</td>\n",
       "      <td>0</td>\n",
       "      <td>0</td>\n",
       "      <td>0</td>\n",
       "      <td>0</td>\n",
       "    </tr>\n",
       "    <tr>\n",
       "      <th>1</th>\n",
       "      <td>流浪者</td>\n",
       "      <td>8968</td>\n",
       "      <td>8575</td>\n",
       "      <td>879</td>\n",
       "      <td>1123</td>\n",
       "      <td>536</td>\n",
       "      <td>137</td>\n",
       "      <td>58</td>\n",
       "      <td>73.1</td>\n",
       "      <td>109.6</td>\n",
       "      <td>0.0</td>\n",
       "      <td>115.5</td>\n",
       "      <td>0</td>\n",
       "      <td>0</td>\n",
       "      <td>0</td>\n",
       "      <td>0</td>\n",
       "      <td>15</td>\n",
       "      <td>0</td>\n",
       "      <td>0</td>\n",
       "      <td>0</td>\n",
       "    </tr>\n",
       "  </tbody>\n",
       "</table>\n",
       "</div>"
      ],
      "text/plain": [
       "    人物  生命值上限  生命值上限加成  攻击力  攻击力加成  防御力  防御力加成  元素精通  暴击率（%）  暴击伤害（%）  \\\n",
       "0    琴  13662     8126  671   1457  715    306   146    18.1     55.0   \n",
       "1  流浪者   8968     8575  879   1123  536    137    58    73.1    109.6   \n",
       "\n",
       "   治疗加成（%）  元素充能效率（%）  火元素伤害加成（%）  水元素伤害加成（%）  草元素伤害加成（%）  雷元素伤害加成（%）  \\\n",
       "0     22.2      120.0           0           0           0           0   \n",
       "1      0.0      115.5           0           0           0           0   \n",
       "\n",
       "   风元素伤害加成(%)  冰元素伤害加成（%）  岩元素伤害加成 （%）  物理伤害加成 （%）  \n",
       "0           0           0            0           0  \n",
       "1          15           0            0           0  "
      ]
     },
     "execution_count": 3,
     "metadata": {},
     "output_type": "execute_result"
    }
   ],
   "source": [
    "import pandas as pd\n",
    "df = pd.read_excel('角色数据.xlsx')···"
   ]
  },
  {
   "attachments": {},
   "cell_type": "markdown",
   "metadata": {},
   "source": [
    "简单测算一下，散兵可以造成的伤害\n",
    "\n",
    "伤害公式：攻击力* 技能倍率 * （元素加成+武器被动加成+伤害提升buff) * 反应倍数 * （元素精通加成和套装反应系数加成） * （1+爆伤%）\n",
    "\n",
    "普通攻击     一段伤害：99.9%\n",
    "\n",
    "            二段伤害：94.5%\n",
    "\n",
    "            三段伤害：69.3%+69.3%\n",
    "\n",
    "            重击伤害：184.9%\n",
    "\n",
    "E技能：     技能伤害：133.3%\n",
    "\n",
    "            普通攻击：143.5% 普通攻击伤害\n",
    "\n",
    "            重击：134.8% 重击伤害\n",
    "\n",
    "Q技能：     206.1%*5\n",
    "\n",
    "扩散伤害提升45.3%\n",
    "\n",
    "圣遗物套装：沙上楼阁四件\n",
    "\n",
    "武器：铃铛（lv80，精炼一阶）普攻造成的伤害14秒内每秒提升4.8%，击中敌人后普攻造成的伤害提升9.6%。至多普攻伤害提升48%"
   ]
  },
  {
   "attachments": {},
   "cell_type": "markdown",
   "metadata": {},
   "source": [
    "无暴击的普攻123和重击伤害(假设击中敌人)\n"
   ]
  },
  {
   "cell_type": "code",
   "execution_count": 42,
   "metadata": {},
   "outputs": [
    {
     "name": "stdout",
     "output_type": "stream",
     "text": [
      "2520 2384 3497 4256\n"
     ]
    }
   ],
   "source": [
    "import math\n",
    "w_attack = df['攻击力'].loc[df.index[1]]+df['攻击力加成'].loc[df.index[1]]\n",
    "wind_dmg = 1+0.15\n",
    "\n",
    "n_attack_1 = math.floor(w_attack*0.999*(1+0.096)*wind_dmg)\n",
    "n_attack_2= math.floor(w_attack*0.945*(1+0.096)*wind_dmg)\n",
    "n_attack_3 = math.floor(2*(w_attack*0.693*(1+0.096))*wind_dmg)\n",
    "charged = math.floor(w_attack*1.849*wind_dmg)\n",
    "print(n_attack_1, n_attack_2, n_attack_3, charged)"
   ]
  },
  {
   "attachments": {},
   "cell_type": "markdown",
   "metadata": {},
   "source": [
    "散兵暴击后普攻123和重击伤害"
   ]
  },
  {
   "cell_type": "code",
   "execution_count": 43,
   "metadata": {},
   "outputs": [
    {
     "name": "stdout",
     "output_type": "stream",
     "text": [
      "5283 4997 7330 8922\n"
     ]
    }
   ],
   "source": [
    "w_attack = df['攻击力'].loc[df.index[1]]+df['攻击力加成'].loc[df.index[1]]\n",
    "\n",
    "n_attack_1_crit = math.floor(w_attack*0.999*(1+df['暴击伤害（%）'].loc[df.index[1]]/100)*(1+0.096)*wind_dmg)\n",
    "n_attack_2_crit= math.floor(w_attack*0.945*(1+df['暴击伤害（%）'].loc[df.index[1]]/100)*(1+0.096)*wind_dmg)\n",
    "n_attack_3_crit = math.floor(2*(w_attack*0.693*(1+df['暴击伤害（%）'].loc[df.index[1]]/100)*(1+0.096))*wind_dmg)\n",
    "charged_crit = math.floor(w_attack*1.849*(1+df['暴击伤害（%）'].loc[df.index[1]]/100)*wind_dmg)\n",
    "print(n_attack_1_crit, n_attack_2_crit, n_attack_3_crit, charged_crit)"
   ]
  },
  {
   "attachments": {},
   "cell_type": "markdown",
   "metadata": {},
   "source": [
    "重击后15秒内，普通攻击和重击提升的伤害（无暴击）"
   ]
  },
  {
   "cell_type": "code",
   "execution_count": 44,
   "metadata": {},
   "outputs": [
    {
     "name": "stdout",
     "output_type": "stream",
     "text": [
      "3528 3337 4895 5958\n"
     ]
    }
   ],
   "source": [
    "p = 1+0.4\n",
    "print(math.floor(n_attack_1*p), math.floor(n_attack_2*p), math.floor(n_attack_3*p), math.floor(charged*p))"
   ]
  },
  {
   "attachments": {},
   "cell_type": "markdown",
   "metadata": {},
   "source": [
    "重击后15秒内，普通攻击和重击提升的伤害（暴击）"
   ]
  },
  {
   "cell_type": "code",
   "execution_count": 45,
   "metadata": {},
   "outputs": [
    {
     "name": "stdout",
     "output_type": "stream",
     "text": [
      "7396 6995 10262 12490\n"
     ]
    }
   ],
   "source": [
    "print(math.floor(n_attack_1_crit*p), math.floor(n_attack_2_crit*p), math.floor(n_attack_3_crit*p), math.floor(charged_crit*p))"
   ]
  },
  {
   "cell_type": "code",
   "execution_count": 46,
   "metadata": {},
   "outputs": [
    {
     "name": "stdout",
     "output_type": "stream",
     "text": [
      "2742 2593 3800 4560\n"
     ]
    }
   ],
   "source": [
    "n_attack_1_7 = math.floor(w_attack*1.087*(1+0.096)*wind_dmg)\n",
    "n_attack_2_7= math.floor(w_attack*1.028*(1+0.096)*wind_dmg)\n",
    "n_attack_3_7 = math.floor(2*(w_attack*0.753*(1+0.096))*wind_dmg)\n",
    "charged_7 = math.floor(w_attack*1.981*wind_dmg)\n",
    "print(n_attack_1_7, n_attack_2_7, n_attack_3_7, charged_7)"
   ]
  },
  {
   "cell_type": "code",
   "execution_count": 47,
   "metadata": {},
   "outputs": [
    {
     "name": "stdout",
     "output_type": "stream",
     "text": [
      "2964 2803 4107 4864\n"
     ]
    }
   ],
   "source": [
    "n_attack_1_8 = math.floor(w_attack*1.175*(1+0.096)*wind_dmg)\n",
    "n_attack_2_8= math.floor(w_attack*1.111*(1+0.096)*wind_dmg)\n",
    "n_attack_3_8 = math.floor(2*(w_attack*0.814*(1+0.096))*wind_dmg)\n",
    "charged_8 = math.floor(w_attack*2.113*wind_dmg)\n",
    "print(n_attack_1_8, n_attack_2_8, n_attack_3_8, charged_8)"
   ]
  },
  {
   "cell_type": "code",
   "execution_count": 48,
   "metadata": {},
   "outputs": [
    {
     "name": "stdout",
     "output_type": "stream",
     "text": [
      "3184 3015 4415 5168\n"
     ]
    }
   ],
   "source": [
    "n_attack_1_9 = math.floor(w_attack*1.262*(1+0.096)*wind_dmg)\n",
    "n_attack_2_9= math.floor(w_attack*1.195*(1+0.096)*wind_dmg)\n",
    "n_attack_3_9 = math.floor(2*(w_attack*0.875*(1+0.096))*wind_dmg)\n",
    "charged_9 = math.floor(w_attack*2.245*wind_dmg)\n",
    "print(n_attack_1_9, n_attack_2_9, n_attack_3_9, charged_9)"
   ]
  },
  {
   "cell_type": "code",
   "execution_count": 49,
   "metadata": {},
   "outputs": [
    {
     "name": "stdout",
     "output_type": "stream",
     "text": [
      "3426 3242 4753 5472\n"
     ]
    }
   ],
   "source": [
    "n_attack_1_10 = math.floor(w_attack*1.358*(1+0.096)*wind_dmg)\n",
    "n_attack_2_10= math.floor(w_attack*1.285*(1+0.096)*wind_dmg)\n",
    "n_attack_3_10 = math.floor(2*(w_attack*0.942*(1+0.096))*wind_dmg)\n",
    "charged_10 = math.floor(w_attack*2.377*wind_dmg)\n",
    "print(n_attack_1_10, n_attack_2_10, n_attack_3_10, charged_10)"
   ]
  },
  {
   "cell_type": "code",
   "execution_count": 82,
   "metadata": {},
   "outputs": [
    {
     "data": {
      "text/plain": [
       "Text(0.5, 1.0, '散兵普攻重击伤害')"
      ]
     },
     "execution_count": 82,
     "metadata": {},
     "output_type": "execute_result"
    },
    {
     "data": {
      "image/png": "[encoded data removed]",
      "text/plain": [
       "<Figure size 640x480 with 4 Axes>"
      ]
     },
     "metadata": {},
     "output_type": "display_data"
    }
   ],
   "source": [
    "import matplotlib.pyplot as plt\n",
    "\n",
    "plt.rcParams[\"font.sans-serif\"]=[\"SimHei\"] \n",
    "plt.rcParams[\"axes.unicode_minus\"]=False \n",
    "plt.rcParams['axes.titlesize'] = 10\n",
    "plt.rcParams['figure.subplot.wspace'] = 0.3\n",
    "plt.rcParams['figure.subplot.hspace'] = 0.5\n",
    "\n",
    "x = [6, 7, 8, 9, 10]\n",
    "y1 = [n_attack_1, n_attack_1_7, n_attack_1_8, n_attack_1_9, n_attack_1_10]\n",
    "y2 = [n_attack_2, n_attack_2_7, n_attack_2_8, n_attack_2_9, n_attack_2_10]\n",
    "y3 = [n_attack_3, n_attack_3_7, n_attack_3_8, n_attack_3_9, n_attack_3_10]\n",
    "y4 = [charged, charged_7, charged_8, charged_9, charged_10]\n",
    "\n",
    "plt.subplot(2,2,1)\n",
    "plt.plot(x, y1, '.-')\n",
    "plt.xlabel('lv')\n",
    "plt.ylabel('dmg')\n",
    "plt.title('散兵普攻一段伤害')\n",
    "plt.subplot(2,2,2)\n",
    "plt.xlabel('lv')\n",
    "plt.ylabel('dmg')\n",
    "plt.plot(x,y2, '.-')\n",
    "plt.title('散兵普攻二段伤害')\n",
    "\n",
    "plt.subplot(2,2,3)\n",
    "plt.plot(x,y3, '.-')\n",
    "plt.xlabel('lv')\n",
    "plt.ylabel('dmg')\n",
    "plt.title('散兵普攻三段伤害')\n",
    "\n",
    "plt.subplot(2,2,4)\n",
    "plt.plot(x,y4, '.-')\n",
    "plt.xlabel('lv')\n",
    "plt.ylabel('dmg')\n",
    "plt.title('散兵普攻重击伤害')"
   ]
  },
  {
   "cell_type": "code",
   "execution_count": 80,
   "metadata": {},
   "outputs": [
    {
     "name": "stdout",
     "output_type": "stream",
     "text": [
      "181 171 251 243\n"
     ]
    }
   ],
   "source": [
    "slope_1 = (n_attack_1_10-n_attack_1)/5\n",
    "slope_2 = (n_attack_2_10-n_attack_2)/5\n",
    "slope_3 = (n_attack_3_10-n_attack_3)/5\n",
    "slope_c = (charged_10-charged)/5\n",
    "\n",
    "slope_1 = math.floor(slope_1)\n",
    "slope_2 = math.floor(slope_2)\n",
    "slope_3 = math.floor(slope_3)\n",
    "slope_c = math.floor(slope_c)\n",
    "\n",
    "print(slope_1, slope_2, slope_3, slope_c)"
   ]
  },
  {
   "attachments": {},
   "cell_type": "markdown",
   "metadata": {},
   "source": [
    "目前的角色属性：\n",
    "每升一级一段伤害平均增加181.2， 二段伤害增加171， 三段增加251， 四段增加243\n"
   ]
  },
  {
   "attachments": {},
   "cell_type": "markdown",
   "metadata": {},
   "source": []
  }
 ],
 "metadata": {
  "kernelspec": {
   "display_name": "base",
   "language": "python",
   "name": "python3"
  },
  "language_info": {
   "codemirror_mode": {
    "name": "ipython",
    "version": 3
   },
   "file_extension": ".py",
   "mimetype": "text/x-python",
   "name": "python",
   "nbconvert_exporter": "python",
   "pygments_lexer": "ipython3",
   "version": "3.9.13"
  },
  "orig_nbformat": 4,
  "vscode": {
   "interpreter": {
    "hash": "088ddfe9e18e2964f8b4a3232c69214f3798918deb78915a1f1b231931d156c1"
   }
  }
 },
 "nbformat": 4,
 "nbformat_minor": 2
}
